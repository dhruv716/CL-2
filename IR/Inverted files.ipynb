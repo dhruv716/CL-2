{
 "cells": [
  {
   "cell_type": "code",
   "execution_count": 1,
   "metadata": {},
   "outputs": [],
   "source": [
    "import os\n",
    "from collections import defaultdict"
   ]
  },
  {
   "cell_type": "code",
   "execution_count": 2,
   "metadata": {},
   "outputs": [],
   "source": [
    "# Sample documents\n",
    "documents = {\n",
    "    1: \"Natural language processing enables computers to understand human language.\",\n",
    "    2: \"Artificial intelligence is a branch of computer science that deals with creating machines that can think.\",\n",
    "    3: \"Machine learning is a subset of artificial intelligence focused on building systems that learn from data.\",\n",
    "    4: \"Language models are a key part of natural language processing applications.\"\n",
    "}"
   ]
  },
  {
   "cell_type": "code",
   "execution_count": 3,
   "metadata": {},
   "outputs": [],
   "source": [
    "# Function to create an inverted index\n",
    "def create_inverted_index(docs):\n",
    "    inverted_index = defaultdict(set)  # A dictionary to hold word: {document_id}\n",
    "    \n",
    "    # Iterate over all documents and tokenize\n",
    "    for doc_id, text in docs.items():\n",
    "        words = text.lower().split()\n",
    "        for word in words:\n",
    "            inverted_index[word].add(doc_id)  # Add document ID to the set of documents containing the word\n",
    "    \n",
    "    return inverted_index"
   ]
  },
  {
   "cell_type": "code",
   "execution_count": 10,
   "metadata": {},
   "outputs": [],
   "source": [
    "# Function to search documents based on a term\n",
    "def search_inverted_index(inverted_index, term):\n",
    "    term = term.lower()\n",
    "    if term in inverted_index:\n",
    "        return inverted_index[term]\n",
    "    else:\n",
    "        return \"No documents found containing this term.\""
   ]
  },
  {
   "cell_type": "code",
   "execution_count": 11,
   "metadata": {},
   "outputs": [],
   "source": [
    "# Create inverted index\n",
    "inverted_index = create_inverted_index(documents)"
   ]
  },
  {
   "cell_type": "code",
   "execution_count": 12,
   "metadata": {},
   "outputs": [
    {
     "name": "stdout",
     "output_type": "stream",
     "text": [
      "Inverted Index: {'natural': {1, 4}, 'language': {1, 4}, 'processing': {1, 4}, 'enables': {1}, 'computers': {1}, 'to': {1}, 'understand': {1}, 'human': {1}, 'language.': {1}, 'artificial': {2, 3}, 'intelligence': {2, 3}, 'is': {2, 3}, 'a': {2, 3, 4}, 'branch': {2}, 'of': {2, 3, 4}, 'computer': {2}, 'science': {2}, 'that': {2, 3}, 'deals': {2}, 'with': {2}, 'creating': {2}, 'machines': {2}, 'can': {2}, 'think.': {2}, 'machine': {3}, 'learning': {3}, 'subset': {3}, 'focused': {3}, 'on': {3}, 'building': {3}, 'systems': {3}, 'learn': {3}, 'from': {3}, 'data.': {3}, 'models': {4}, 'are': {4}, 'key': {4}, 'part': {4}, 'applications.': {4}}\n"
     ]
    }
   ],
   "source": [
    "# Display the inverted index\n",
    "print(\"Inverted Index:\", dict(inverted_index))"
   ]
  },
  {
   "cell_type": "code",
   "execution_count": 13,
   "metadata": {},
   "outputs": [],
   "source": [
    "# Search for a term\n",
    "term_to_search = \"artificial\"\n",
    "results = search_inverted_index(inverted_index, term_to_search)"
   ]
  },
  {
   "cell_type": "code",
   "execution_count": 14,
   "metadata": {},
   "outputs": [
    {
     "name": "stdout",
     "output_type": "stream",
     "text": [
      "Documents containing the term 'artificial': {2, 3}\n"
     ]
    }
   ],
   "source": [
    "# Output search results\n",
    "print(f\"Documents containing the term '{term_to_search}': {results}\")"
   ]
  },
  {
   "cell_type": "markdown",
   "metadata": {},
   "source": [
    "Explanation:\n",
    "---\n",
    "The program implements a document retrieval system using an inverted index. It starts by defining a set of sample documents, where each document is identified by a unique ID. These documents contain some common words, and the goal is to create an inverted index, which maps each word to the set of document IDs that contain that word.\n",
    "\n",
    "To create the inverted index, the create_inverted_index function processes each document by tokenizing it into individual words, converting each word to lowercase to ensure uniformity, and then storing the document IDs in a dictionary (using a set to ensure each document ID is unique for each word). The dictionary, or inverted index, has words as keys, and the corresponding values are sets of document IDs where these words appear.\n",
    "\n",
    "Once the inverted index is created, the search_inverted_index function allows for querying the index by a search term. When a user provides a term, the function looks it up in the inverted index and returns the document IDs where the term appears. If the term is not found in the index, it returns a message indicating no documents were found containing that term.\n",
    "\n",
    "In the example, after creating the inverted index, the program searches for the term \"artificial\" and outputs the document IDs that contain that term. In this case, the term \"artificial\" appears in document 2.\n",
    "\n",
    "This method of using an inverted index helps make searching for terms in large datasets efficient, as it avoids the need to scan every document each time a search is performed. Instead, it uses the index, which maps terms directly to the documents where they are found.\n",
    "\n",
    "Key Components of the Code:\n",
    "---\n",
    "Inverted Index:\n",
    "The inverted index is the key data structure in this program. For example, if we have a document with the term \"artificial\" in it, the inverted index will store the word \"artificial\" as a key and associate it with the document ID where it appears.\n",
    "The inverted index allows for fast searches because instead of scanning every document, we can look up the word directly and retrieve the list of documents that contain it.\n",
    "\n",
    "Efficient Search:\n",
    "Searching for a term is efficient because it simply involves looking up the term in the inverted index. If the term is found, the corresponding documents are returned. This is much faster than scanning through each document individually.\n",
    "\n",
    "Tokenization and Normalization:\n",
    "Before creating the inverted index, the text is tokenized (split into words) and normalized (converted to lowercase) to ensure that words like \"Artificial\" and \"artificial\" are treated the same.\n",
    "\n",
    "Set Data Structure:\n",
    "Using a set for document IDs ensures that each document ID is unique for a given word and that we don't store duplicates, which makes the index more efficient.\n",
    "\n",
    "\n",
    "\n",
    "For the oral questions:\n",
    "-----\n",
    "1. What is meant by an inverted index? An inverted index is a data structure that stores a mapping from terms or words to the documents in which they appear. Instead of storing a list of words for each document, an inverted index stores a list of documents for each word. This makes searching for words in a large collection of documents much faster.\n",
    "\n",
    "2. What are the steps for the creation of an inverted index? \n",
    "The steps are as follows:\n",
    "- Tokenize the text into words.\n",
    "- Convert words to lowercase to ensure case insensitivity.\n",
    "- For each word, add the document's ID to a list or set associated with that word.\n",
    "- Store these mappings in a data structure like a dictionary or defaultdict, where the keys are words, and the values are sets of document IDs.\n",
    "\n",
    "3. What are the built-in functions used for index creation?\n",
    "- defaultdict(): A Python collection that initializes values automatically, allowing us to add document IDs to sets without checking if the word already exists in the index.\n",
    "- split(): Used to break text into words by splitting on spaces.\n",
    "- lower(): Converts a string to lowercase, ensuring consistency when comparing words.\n",
    "- set(): A data structure used to store document IDs for each word, ensuring uniqueness.\n"
   ]
  }
 ],
 "metadata": {
  "kernelspec": {
   "display_name": "Python 3.9.18 ('myenv')",
   "language": "python",
   "name": "python3"
  },
  "language_info": {
   "codemirror_mode": {
    "name": "ipython",
    "version": 3
   },
   "file_extension": ".py",
   "mimetype": "text/x-python",
   "name": "python",
   "nbconvert_exporter": "python",
   "pygments_lexer": "ipython3",
   "version": "3.9.18"
  },
  "orig_nbformat": 4,
  "vscode": {
   "interpreter": {
    "hash": "e0b15402db86e3924a8be0f40e4477bbc39fc6773c61cc56d96ddc22ec1bec37"
   }
  }
 },
 "nbformat": 4,
 "nbformat_minor": 2
}
