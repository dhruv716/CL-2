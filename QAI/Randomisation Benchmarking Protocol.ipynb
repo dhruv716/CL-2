{
 "cells": [
  {
   "cell_type": "code",
   "execution_count": 1,
   "metadata": {},
   "outputs": [],
   "source": [
    "# Correct import statements for the latest Qiskit version\n",
    "from qiskit import QuantumCircuit, transpile\n",
    "from qiskit_aer import AerSimulator\n",
    "from qiskit_aer.noise import NoiseModel, depolarizing_error\n",
    "from qiskit.visualization import plot_histogram\n",
    "import numpy as np\n",
    "import matplotlib.pyplot as plt"
   ]
  },
  {
   "cell_type": "code",
   "execution_count": 14,
   "metadata": {},
   "outputs": [],
   "source": [
    "# Define the number of qubits and depths for the benchmarking\n",
    "num_qubits = 2\n",
    "depths = [5, 10]  # Different lengths for the benchmarking sequence"
   ]
  },
  {
   "cell_type": "code",
   "execution_count": 15,
   "metadata": {},
   "outputs": [],
   "source": [
    "# Define a noise model with depolarizing errors\n",
    "noise_model = NoiseModel()"
   ]
  },
  {
   "cell_type": "code",
   "execution_count": 16,
   "metadata": {},
   "outputs": [],
   "source": [
    "# Single qubit depolarizing error for gates like sx\n",
    "single_qubit_depol_error = depolarizing_error(0.01, 1)  # 1% error for single-qubit gates\n",
    "noise_model.add_all_qubit_quantum_error(single_qubit_depol_error, [\"sx\", \"x\", \"y\", \"z\"])"
   ]
  },
  {
   "cell_type": "code",
   "execution_count": 17,
   "metadata": {},
   "outputs": [],
   "source": [
    "# Two-qubit depolarizing error for gates like cx\n",
    "two_qubit_depol_error = depolarizing_error(0.01, 2)  # 1% error for two-qubit gates\n",
    "noise_model.add_all_qubit_quantum_error(two_qubit_depol_error, [\"cx\", \"cz\"])"
   ]
  },
  {
   "cell_type": "code",
   "execution_count": 18,
   "metadata": {},
   "outputs": [],
   "source": [
    "# Create a simulator with the noise model\n",
    "simulator = AerSimulator(noise_model=noise_model)"
   ]
  },
  {
   "cell_type": "code",
   "execution_count": 19,
   "metadata": {},
   "outputs": [],
   "source": [
    "# Create a function to generate randomized benchmarking circuits with measurements\n",
    "def create_rb_circuits(num_qubits, depth):\n",
    "    \"\"\"Generates randomized benchmarking circuits with measurements.\"\"\"\n",
    "    rb_circuits = []\n",
    "    \n",
    "    # Randomized benchmarking sequence using different depths\n",
    "    for d in range(1, depth + 1):\n",
    "        for _ in range(d):  # Loop to add random sequences of gates\n",
    "            circuit = QuantumCircuit(num_qubits, num_qubits)  # Include classical bits for measurement\n",
    "            for qubit in range(num_qubits):\n",
    "                circuit.x(qubit)  # Apply X gate for randomness (can vary for more complexity)\n",
    "            circuit.barrier()\n",
    "            # Add measurement to the circuit\n",
    "            circuit.measure(range(num_qubits), range(num_qubits))\n",
    "            rb_circuits.append(circuit)\n",
    "    \n",
    "    return rb_circuits"
   ]
  },
  {
   "cell_type": "code",
   "execution_count": 20,
   "metadata": {},
   "outputs": [],
   "source": [
    "# Generate randomized benchmarking circuits for different depths\n",
    "rb_circuits = []\n",
    "for depth in depths:\n",
    "    rb_circuits.extend(create_rb_circuits(num_qubits, depth))"
   ]
  },
  {
   "cell_type": "code",
   "execution_count": 21,
   "metadata": {},
   "outputs": [],
   "source": [
    "# Transpile the circuits for the simulator\n",
    "transpiled_circuits = transpile(rb_circuits, simulator)"
   ]
  },
  {
   "cell_type": "code",
   "execution_count": 22,
   "metadata": {},
   "outputs": [],
   "source": [
    "# Running the circuits on the simulator using the 'run' method\n",
    "job = simulator.run(transpiled_circuits, shots=1024)"
   ]
  },
  {
   "cell_type": "code",
   "execution_count": 23,
   "metadata": {},
   "outputs": [],
   "source": [
    "# Collect the results from the simulation\n",
    "result = job.result()"
   ]
  },
  {
   "cell_type": "code",
   "execution_count": 28,
   "metadata": {},
   "outputs": [
    {
     "name": "stdout",
     "output_type": "stream",
     "text": [
      "[<qiskit.circuit.quantumcircuit.QuantumCircuit object at 0x15c5a5fd0>, <qiskit.circuit.quantumcircuit.QuantumCircuit object at 0x14a9fd810>, <qiskit.circuit.quantumcircuit.QuantumCircuit object at 0x15cc75510>, <qiskit.circuit.quantumcircuit.QuantumCircuit object at 0x14aba3650>, <qiskit.circuit.quantumcircuit.QuantumCircuit object at 0x15eb49750>, <qiskit.circuit.quantumcircuit.QuantumCircuit object at 0x15c555810>, <qiskit.circuit.quantumcircuit.QuantumCircuit object at 0x15cb98c10>, <qiskit.circuit.quantumcircuit.QuantumCircuit object at 0x15c5344d0>, <qiskit.circuit.quantumcircuit.QuantumCircuit object at 0x15c59bd10>, <qiskit.circuit.quantumcircuit.QuantumCircuit object at 0x15c5543d0>, <qiskit.circuit.quantumcircuit.QuantumCircuit object at 0x15cd65b90>, <qiskit.circuit.quantumcircuit.QuantumCircuit object at 0x15c574b10>, <qiskit.circuit.quantumcircuit.QuantumCircuit object at 0x15c574410>, <qiskit.circuit.quantumcircuit.QuantumCircuit object at 0x15c577b90>, <qiskit.circuit.quantumcircuit.QuantumCircuit object at 0x15c574fd0>, <qiskit.circuit.quantumcircuit.QuantumCircuit object at 0x15cf1acd0>, <qiskit.circuit.quantumcircuit.QuantumCircuit object at 0x15cd66550>, <qiskit.circuit.quantumcircuit.QuantumCircuit object at 0x15cc7f650>, <qiskit.circuit.quantumcircuit.QuantumCircuit object at 0x15cc57bd0>, <qiskit.circuit.quantumcircuit.QuantumCircuit object at 0x14a744b90>, <qiskit.circuit.quantumcircuit.QuantumCircuit object at 0x15b023a90>, <qiskit.circuit.quantumcircuit.QuantumCircuit object at 0x15c553910>, <qiskit.circuit.quantumcircuit.QuantumCircuit object at 0x15c552850>, <qiskit.circuit.quantumcircuit.QuantumCircuit object at 0x15c582850>, <qiskit.circuit.quantumcircuit.QuantumCircuit object at 0x15b2b2250>, <qiskit.circuit.quantumcircuit.QuantumCircuit object at 0x15c5718d0>, <qiskit.circuit.quantumcircuit.QuantumCircuit object at 0x15c573890>, <qiskit.circuit.quantumcircuit.QuantumCircuit object at 0x15c570210>, <qiskit.circuit.quantumcircuit.QuantumCircuit object at 0x15cc4aa90>, <qiskit.circuit.quantumcircuit.QuantumCircuit object at 0x15cc51610>, <qiskit.circuit.quantumcircuit.QuantumCircuit object at 0x15cc51a50>, <qiskit.circuit.quantumcircuit.QuantumCircuit object at 0x15cc527d0>, <qiskit.circuit.quantumcircuit.QuantumCircuit object at 0x15cc76650>, <qiskit.circuit.quantumcircuit.QuantumCircuit object at 0x15cc50790>, <qiskit.circuit.quantumcircuit.QuantumCircuit object at 0x15cc53310>, <qiskit.circuit.quantumcircuit.QuantumCircuit object at 0x15cc53750>, <qiskit.circuit.quantumcircuit.QuantumCircuit object at 0x15cc53b90>, <qiskit.circuit.quantumcircuit.QuantumCircuit object at 0x15c57a410>, <qiskit.circuit.quantumcircuit.QuantumCircuit object at 0x15c579e90>, <qiskit.circuit.quantumcircuit.QuantumCircuit object at 0x15c57a210>, <qiskit.circuit.quantumcircuit.QuantumCircuit object at 0x15c5791d0>, <qiskit.circuit.quantumcircuit.QuantumCircuit object at 0x15c5785d0>, <qiskit.circuit.quantumcircuit.QuantumCircuit object at 0x15c579010>, <qiskit.circuit.quantumcircuit.QuantumCircuit object at 0x15ec28d90>, <qiskit.circuit.quantumcircuit.QuantumCircuit object at 0x15ccd0f50>, <qiskit.circuit.quantumcircuit.QuantumCircuit object at 0x15ccd1210>, <qiskit.circuit.quantumcircuit.QuantumCircuit object at 0x15ccd1a50>, <qiskit.circuit.quantumcircuit.QuantumCircuit object at 0x15ccd29d0>, <qiskit.circuit.quantumcircuit.QuantumCircuit object at 0x15ccd2590>, <qiskit.circuit.quantumcircuit.QuantumCircuit object at 0x15ccd3410>, <qiskit.circuit.quantumcircuit.QuantumCircuit object at 0x15ccd3d50>, <qiskit.circuit.quantumcircuit.QuantumCircuit object at 0x14a79ca90>, <qiskit.circuit.quantumcircuit.QuantumCircuit object at 0x15de6b790>, <qiskit.circuit.quantumcircuit.QuantumCircuit object at 0x15de680d0>, <qiskit.circuit.quantumcircuit.QuantumCircuit object at 0x15de69450>]\n"
     ]
    }
   ],
   "source": [
    "results = create_rb_circuits(num_qubits, depth)\n",
    "print(results)"
   ]
  },
  {
   "cell_type": "code",
   "execution_count": 29,
   "metadata": {},
   "outputs": [
    {
     "data": {
      "image/png": "[encoded data removed]",
      "text/plain": [
       "<Figure size 640x480 with 1 Axes>"
      ]
     },
     "execution_count": 29,
     "metadata": {},
     "output_type": "execute_result"
    }
   ],
   "source": [
    "# Plot the results as a histogram\n",
    "counts = result.get_counts()\n",
    "plot_histogram(counts)"
   ]
  },
  {
   "cell_type": "markdown",
   "metadata": {},
   "source": [
    "EXPLANATION:\n",
    "------\n",
    "\n",
    "matplotlib.pyplot: This is a standard library for generating plots in Python. It's used here for visualizing the measurement results as a histogram.\n",
    "\n",
    "QuantumCircuit: The fundamental class from Qiskit used to create quantum circuits. It allows for the addition of quantum gates, measurement operations, and other components that represent a quantum algorithm.\n",
    "\n",
    "transpile: This function is used to optimize and compile quantum circuits for execution on a specific quantum backend. It ensures that the circuits are tailored for the simulator (or real hardware) being used.\n",
    "\n",
    "AerSimulator: From Qiskit's Aer library, AerSimulator is the backend simulator used to execute quantum circuits with noise modeling. It's a high-performance simulator used for testing quantum algorithms.\n",
    "\n",
    "NoiseModel and depolarizing_error: These classes are used to model and apply noise to the quantum simulator. Depolarizing noise is a common model used to simulate real-world imperfections in quantum gates.\n",
    "\n",
    "plot_histogram: This function is used to visualize the results of quantum measurements in the form of a histogram. It is useful for understanding the outcomes of quantum circuits.\n",
    "\n",
    "1. NoiseModel: This class defines the noise model that will be applied to the quantum simulator. In the code, we define depolarizing noise for both single-qubit and two-qubit gates.\n",
    "\n",
    "Depolarizing Error: This is a noise model where each gate has a small probability of acting as a completely random operation instead of the intended gate. In the code:\n",
    "A 1% depolarizing error is applied to all single-qubit gates (sx, x, y, z).\n",
    "A 1% depolarizing error is also applied to two-qubit gates (cx, cz).\n",
    "This models how quantum circuits behave in real-world scenarios where gates are not perfect, and errors accumulate.\n",
    "\n",
    "\n",
    "2. Randomized Benchmarking Circuit Creation:\n",
    "QuantumCircuit: This class is used to construct quantum circuits for the RB protocol. A circuit is created for each depth (level of repetitions for randomized benchmarking).\n",
    "\n",
    "Random Gate Sequences: For each circuit, the X gate (which flips a qubit) is applied. In a true randomized benchmarking experiment, a sequence of random gates would be applied instead of just X gates, but in this simple version, we use X gates as placeholders.\n",
    "\n",
    "Measurement: After the gates are applied, we perform a measurement on each qubit (circuit.measure(range(num_qubits), range(num_qubits))). This measures the state of each qubit and stores the result in classical bits.\n",
    "\n",
    "Barrier: The barrier() function is used to separate sections of the circuit logically. It does not affect the execution but ensures that gates are grouped logically.\n",
    "\n",
    "This function creates multiple randomized benchmarking circuits of varying depths (i.e., different numbers of randomized gates).\n",
    "\n",
    "3. Simulating the Circuit:\n",
    "Creating Circuits: The code generates multiple circuits for different depths (5 and 10 in the depths list).\n",
    "\n",
    "Transpiling: The circuits are optimized for the simulator using the transpile() function. This step ensures that the circuits are in an executable form suitable for the chosen backend.\n",
    "\n",
    "Simulator Execution: The circuits are then executed on the noise-added simulator (AerSimulator with a noise model). We run each circuit 512 times (shots=512) to collect enough data to assess the gate fidelity.\n",
    "\n",
    "4. Visualizing the Results:\n",
    "Result Collection: The result from the simulation (job.result()) is obtained and then processed using get_counts(), which returns the measurement outcomes (i.e., the bitstrings that correspond to the measurements of qubits in the circuit).\n",
    "\n",
    "Plotting: The plot_histogram(counts) function is used to generate a histogram that shows the frequency of each possible outcome from the randomized benchmarking experiment.\n",
    "\n",
    "plt.show(): This ensures that the plot is explicitly rendered in the Google Colab environment.\n",
    "\n",
    "\n",
    "Concepts Used:\n",
    "Randomized Benchmarking: This is a technique used to measure the fidelity of quantum gates by applying random sequences of quantum gates and then measuring the error rate. It is a powerful method for characterizing quantum hardware, especially when noise is present.\n",
    "\n",
    "Noise Modeling: The code simulates real-world quantum computers by adding noise to the quantum gates. The depolarizing error model is commonly used to represent random errors that can occur during quantum computations.\n",
    "\n",
    "Quantum Circuit Creation and Measurement: The quantum circuits are created using QuantumCircuit from Qiskit. After applying the gates, measurements are taken to observe the state of the qubits, which is necessary for analyzing the fidelity of quantum operations.\n",
    "\n",
    "Simulation: Using AerSimulator, we simulate the quantum circuits with added noise. This is helpful when working with quantum systems that are too expensive or unavailable for real hardware testing.\n",
    "\n",
    "\n",
    "Key Questions:\n",
    "State: The state of the quantum system is encoded by applying quantum gates (like X, CX) to qubits. Random sequences of gates are applied to simulate errors and measure the gate fidelity.\n",
    "\n",
    "Quantum Circuit Construction: The quantum circuit is constructed by applying gates (random or predefined) to qubits, followed by measurement operations. This represents the \"problem space\" in a randomized benchmarking experiment.\n",
    "\n",
    "Quantum Algorithms for Optimal Solution: In RB, the goal is to characterize the noise in quantum gates. Algorithms used in RB focus on minimizing the error rates and determining how reliable quantum gates are over multiple executions.\n",
    "\n",
    "Measuring Qubits: The qubits are measured after applying the noise model, and their final states are read out. This provides a way to assess how well the gates perform under noise.\n",
    "\n",
    "Advantages and Disadvantages:\n",
    "\n",
    "Advantages: RB is efficient for benchmarking quantum devices, even with noisy gates. It provides a way to assess gate fidelity without requiring a complete understanding of the noise model.\n",
    "Disadvantages: It doesn't directly correct errors; it only quantifies them. Moreover, the method can be computationally expensive for large circuits.\n",
    "\n"
   ]
  }
 ],
 "metadata": {
  "kernelspec": {
   "display_name": "Python 3.11.4 ('base')",
   "language": "python",
   "name": "python3"
  },
  "language_info": {
   "codemirror_mode": {
    "name": "ipython",
    "version": 3
   },
   "file_extension": ".py",
   "mimetype": "text/x-python",
   "name": "python",
   "nbconvert_exporter": "python",
   "pygments_lexer": "ipython3",
   "version": "3.11.4"
  },
  "orig_nbformat": 4,
  "vscode": {
   "interpreter": {
    "hash": "2f3086a50198e478d9e4ff7572913bd630c3d107bdaf5bdaef4fb26f2e7425d5"
   }
  }
 },
 "nbformat": 4,
 "nbformat_minor": 2
}
