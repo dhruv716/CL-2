{
  "nbformat": 4,
  "nbformat_minor": 0,
  "metadata": {
    "colab": {
      "provenance": []
    },
    "kernelspec": {
      "name": "python3",
      "display_name": "Python 3"
    },
    "language_info": {
      "name": "python"
    }
  },
  "cells": [
    {
      "cell_type": "code",
      "execution_count": 2,
      "metadata": {
        "colab": {
          "base_uri": "https://localhost:8080/"
        },
        "id": "gYQrly9GkVPh",
        "outputId": "c66a7e10-debe-4943-a38a-dede3f348139"
      },
      "outputs": [
        {
          "output_type": "stream",
          "name": "stdout",
          "text": [
            "Collecting qiskit\n",
            "  Downloading qiskit-1.2.4-cp38-abi3-manylinux_2_17_x86_64.manylinux2014_x86_64.whl.metadata (12 kB)\n",
            "Collecting qiskit_aer\n",
            "  Downloading qiskit_aer-0.15.1-cp310-cp310-manylinux_2_17_x86_64.manylinux2014_x86_64.whl.metadata (8.0 kB)\n",
            "Collecting rustworkx>=0.15.0 (from qiskit)\n",
            "  Downloading rustworkx-0.15.1-cp38-abi3-manylinux_2_17_x86_64.manylinux2014_x86_64.whl.metadata (9.9 kB)\n",
            "Requirement already satisfied: numpy<3,>=1.17 in /usr/local/lib/python3.10/dist-packages (from qiskit) (1.26.4)\n",
            "Requirement already satisfied: scipy>=1.5 in /usr/local/lib/python3.10/dist-packages (from qiskit) (1.13.1)\n",
            "Requirement already satisfied: sympy>=1.3 in /usr/local/lib/python3.10/dist-packages (from qiskit) (1.13.1)\n",
            "Collecting dill>=0.3 (from qiskit)\n",
            "  Downloading dill-0.3.9-py3-none-any.whl.metadata (10 kB)\n",
            "Requirement already satisfied: python-dateutil>=2.8.0 in /usr/local/lib/python3.10/dist-packages (from qiskit) (2.8.2)\n",
            "Collecting stevedore>=3.0.0 (from qiskit)\n",
            "  Downloading stevedore-5.3.0-py3-none-any.whl.metadata (2.3 kB)\n",
            "Requirement already satisfied: typing-extensions in /usr/local/lib/python3.10/dist-packages (from qiskit) (4.12.2)\n",
            "Collecting symengine<0.14,>=0.11 (from qiskit)\n",
            "  Downloading symengine-0.13.0-cp310-cp310-manylinux_2_17_x86_64.manylinux2014_x86_64.whl.metadata (1.2 kB)\n",
            "Requirement already satisfied: psutil>=5 in /usr/local/lib/python3.10/dist-packages (from qiskit_aer) (5.9.5)\n",
            "Requirement already satisfied: six>=1.5 in /usr/local/lib/python3.10/dist-packages (from python-dateutil>=2.8.0->qiskit) (1.16.0)\n",
            "Collecting pbr>=2.0.0 (from stevedore>=3.0.0->qiskit)\n",
            "  Downloading pbr-6.1.0-py2.py3-none-any.whl.metadata (3.4 kB)\n",
            "Requirement already satisfied: mpmath<1.4,>=1.1.0 in /usr/local/lib/python3.10/dist-packages (from sympy>=1.3->qiskit) (1.3.0)\n",
            "Downloading qiskit-1.2.4-cp38-abi3-manylinux_2_17_x86_64.manylinux2014_x86_64.whl (4.8 MB)\n",
            "\u001b[2K   \u001b[90m━━━━━━━━━━━━━━━━━━━━━━━━━━━━━━━━━━━━━━━━\u001b[0m \u001b[32m4.8/4.8 MB\u001b[0m \u001b[31m71.9 MB/s\u001b[0m eta \u001b[36m0:00:00\u001b[0m\n",
            "\u001b[?25hDownloading qiskit_aer-0.15.1-cp310-cp310-manylinux_2_17_x86_64.manylinux2014_x86_64.whl (12.3 MB)\n",
            "\u001b[2K   \u001b[90m━━━━━━━━━━━━━━━━━━━━━━━━━━━━━━━━━━━━━━━━\u001b[0m \u001b[32m12.3/12.3 MB\u001b[0m \u001b[31m87.1 MB/s\u001b[0m eta \u001b[36m0:00:00\u001b[0m\n",
            "\u001b[?25hDownloading dill-0.3.9-py3-none-any.whl (119 kB)\n",
            "\u001b[2K   \u001b[90m━━━━━━━━━━━━━━━━━━━━━━━━━━━━━━━━━━━━━━━━\u001b[0m \u001b[32m119.4/119.4 kB\u001b[0m \u001b[31m9.7 MB/s\u001b[0m eta \u001b[36m0:00:00\u001b[0m\n",
            "\u001b[?25hDownloading rustworkx-0.15.1-cp38-abi3-manylinux_2_17_x86_64.manylinux2014_x86_64.whl (2.0 MB)\n",
            "\u001b[2K   \u001b[90m━━━━━━━━━━━━━━━━━━━━━━━━━━━━━━━━━━━━━━━━\u001b[0m \u001b[32m2.0/2.0 MB\u001b[0m \u001b[31m68.8 MB/s\u001b[0m eta \u001b[36m0:00:00\u001b[0m\n",
            "\u001b[?25hDownloading stevedore-5.3.0-py3-none-any.whl (49 kB)\n",
            "\u001b[2K   \u001b[90m━━━━━━━━━━━━━━━━━━━━━━━━━━━━━━━━━━━━━━━━\u001b[0m \u001b[32m49.7/49.7 kB\u001b[0m \u001b[31m4.6 MB/s\u001b[0m eta \u001b[36m0:00:00\u001b[0m\n",
            "\u001b[?25hDownloading symengine-0.13.0-cp310-cp310-manylinux_2_17_x86_64.manylinux2014_x86_64.whl (49.7 MB)\n",
            "\u001b[2K   \u001b[90m━━━━━━━━━━━━━━━━━━━━━━━━━━━━━━━━━━━━━━━━\u001b[0m \u001b[32m49.7/49.7 MB\u001b[0m \u001b[31m17.3 MB/s\u001b[0m eta \u001b[36m0:00:00\u001b[0m\n",
            "\u001b[?25hDownloading pbr-6.1.0-py2.py3-none-any.whl (108 kB)\n",
            "\u001b[2K   \u001b[90m━━━━━━━━━━━━━━━━━━━━━━━━━━━━━━━━━━━━━━━━\u001b[0m \u001b[32m108.5/108.5 kB\u001b[0m \u001b[31m7.8 MB/s\u001b[0m eta \u001b[36m0:00:00\u001b[0m\n",
            "\u001b[?25hInstalling collected packages: symengine, rustworkx, pbr, dill, stevedore, qiskit, qiskit_aer\n",
            "Successfully installed dill-0.3.9 pbr-6.1.0 qiskit-1.2.4 qiskit_aer-0.15.1 rustworkx-0.15.1 stevedore-5.3.0 symengine-0.13.0\n"
          ]
        }
      ],
      "source": [
        "pip install qiskit qiskit_aer"
      ]
    },
    {
      "cell_type": "code",
      "source": [
        "from qiskit import QuantumCircuit, transpile\n",
        "from qiskit_aer import AerSimulator\n",
        "from qiskit_aer.noise import NoiseModel, errors\n",
        "from qiskit.visualization import plot_histogram"
      ],
      "metadata": {
        "id": "W1eEzZyYktLg"
      },
      "execution_count": 3,
      "outputs": []
    },
    {
      "cell_type": "code",
      "source": [
        "# Step 1: Create a Quantum Circuit\n",
        "qc = QuantumCircuit(3, 3)\n",
        "qc.h(0)\n",
        "qc.cx(0, 1)\n",
        "qc.cx(1, 2)\n",
        "qc.measure([0, 1, 2], [0, 1, 2])"
      ],
      "metadata": {
        "colab": {
          "base_uri": "https://localhost:8080/"
        },
        "id": "Y3me-6Wxk2OJ",
        "outputId": "07dd3fb2-effa-4dd4-c5c3-3a5f59bbf15e"
      },
      "execution_count": 4,
      "outputs": [
        {
          "output_type": "execute_result",
          "data": {
            "text/plain": [
              "<qiskit.circuit.instructionset.InstructionSet at 0x7a7ba5faa800>"
            ]
          },
          "metadata": {},
          "execution_count": 4
        }
      ]
    },
    {
      "cell_type": "code",
      "source": [
        "# Step 2: Define a Noise Model (for demonstration)\n",
        "noise_model = NoiseModel()"
      ],
      "metadata": {
        "id": "oGQXumj3k276"
      },
      "execution_count": 5,
      "outputs": []
    },
    {
      "cell_type": "code",
      "source": [
        "# Adding bit-flip errors to measure noise effect\n",
        "bit_flip = errors.pauli_error([('X', 0.01), ('I', 0.99)])\n",
        "noise_model.add_all_qubit_quantum_error(bit_flip, 'measure')"
      ],
      "metadata": {
        "id": "buHhjthSk8zH"
      },
      "execution_count": 6,
      "outputs": []
    },
    {
      "cell_type": "code",
      "source": [
        "# Step 3: Set up the AerSimulator with noise model\n",
        "simulator = AerSimulator(noise_model=noise_model)"
      ],
      "metadata": {
        "id": "7rJTDKcbk_hf"
      },
      "execution_count": 7,
      "outputs": []
    },
    {
      "cell_type": "code",
      "source": [
        "# Step 4: Transpile the circuit for the simulator\n",
        "compiled_circuit = transpile(qc, simulator)"
      ],
      "metadata": {
        "id": "QHYqxX0SlB1m"
      },
      "execution_count": 8,
      "outputs": []
    },
    {
      "cell_type": "code",
      "source": [
        "# Step 5: Run the noisy simulation\n",
        "result = simulator.run(compiled_circuit).result()\n",
        "counts = result.get_counts()\n",
        "print(\"Counts with Noise:\", counts)"
      ],
      "metadata": {
        "colab": {
          "base_uri": "https://localhost:8080/"
        },
        "id": "d_lBFGIJlF0B",
        "outputId": "f3961628-1463-4c60-9d83-15cf4fe6f593"
      },
      "execution_count": 9,
      "outputs": [
        {
          "output_type": "stream",
          "name": "stdout",
          "text": [
            "Counts with Noise: {'100': 9, '001': 9, '101': 10, '110': 6, '011': 4, '111': 478, '010': 10, '000': 498}\n"
          ]
        }
      ]
    },
    {
      "cell_type": "code",
      "source": [
        "# Step 6: Apply a simple noise mitigation technique (for demonstration)\n",
        "# Here we \"correct\" by increasing probability of the most likely state.\n",
        "# This is a simplification and does not represent true mitigation techniques.\n",
        "mitigated_counts = {k: v * 1.1 if v == max(counts.values()) else v * 0.9 for k, v in counts.items()}"
      ],
      "metadata": {
        "id": "Br-MsZtalIZf"
      },
      "execution_count": 11,
      "outputs": []
    },
    {
      "cell_type": "code",
      "source": [
        "# Step 7: Plot both original and mitigated results\n",
        "plot_histogram([counts, mitigated_counts], legend=['Original', 'Mitigated'])"
      ],
      "metadata": {
        "colab": {
          "base_uri": "https://localhost:8080/",
          "height": 446
        },
        "id": "Tu8kAI9mlmEJ",
        "outputId": "d600bcb3-08a2-4ca9-b4bb-3d01bb71f198"
      },
      "execution_count": 12,
      "outputs": [
        {
          "output_type": "execute_result",
          "data": {
            "text/plain": [
              "<Figure size 640x480 with 1 Axes>"
            ],
            "image/png": "[encoded data removed]"
          },
          "metadata": {},
          "execution_count": 12
        }
      ]
    },
    {
      "cell_type": "markdown",
      "source": [
        "Explanation of Each Step in the Code\n",
        "Step 1: Create a Quantum Circuit\n",
        "\n",
        "We create a 3-qubit quantum circuit, qc, with 3 classical bits for measurement.\n",
        "We apply a Hadamard gate (h) to the first qubit, putting it in a superposition.\n",
        "Next, we apply two CNOT gates to create entanglement between the first and second qubits, and then between the second and third qubits.\n",
        "Finally, we measure all three qubits and store the results in the classical bits.\n",
        "Step 2: Define a Noise Model\n",
        "\n",
        "We define a noise model to simulate realistic errors that might occur in an actual quantum system.\n",
        "Here, we add a simple bit-flip error to measurements, which randomly flips the qubit state with a 1% probability (0.01).\n",
        "This noise model will be applied to all measurement operations, simulating potential errors during measurement.\n",
        "Step 3: Set up the AerSimulator with Noise Model\n",
        "\n",
        "We initialize the AerSimulator from qiskit_aer, attaching the noise model we defined.\n",
        "This simulator will run the circuit while incorporating the noise, letting us observe the effects of errors in the results.\n",
        "Step 4: Transpile the Circuit for the Simulator\n",
        "\n",
        "We compile (transpile) the circuit to optimize it specifically for the AerSimulator.\n",
        "Transpiling adjusts the circuit for compatibility and efficiency with the chosen simulator or hardware.\n",
        "Step 5: Run the Noisy Simulation\n",
        "\n",
        "We execute the transpiled circuit on the simulator with the noise model and retrieve the results.\n",
        "get_counts() extracts the results of the measurements, giving us the frequency of each measurement outcome (e.g., {'000': 400, '111': 600}).\n",
        "Step 6: Apply Simple Noise Mitigation (Example)\n",
        "\n",
        "Here, we simulate \"mitigated\" counts by applying a basic adjustment to the measurement results.\n",
        "In practice, error mitigation often involves calibration with real data, but here we’re simply increasing the probability of the most frequent outcome and slightly reducing the less frequent ones to demonstrate a difference.\n",
        "This step is not a true error correction but is used here to showcase how we might plot \"mitigated\" results.\n",
        "Step 7: Plot the Results\n",
        "\n",
        "Using plot_histogram, we display both the original counts and the adjusted \"mitigated\" counts for comparison.\n",
        "The legend parameter labels each dataset, allowing us to distinguish between the noisy and \"mitigated\" results visually.\n",
        "This code gives an overview of simulating a noisy environment and demonstrating a basic form of post-processing to illustrate noise handling. Let me know if you have any specific questions about any part of this!"
      ],
      "metadata": {
        "id": "zuqVJd6Clq-K"
      }
    }
  ]
}
